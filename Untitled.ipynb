{
 "cells": [
  {
   "cell_type": "markdown",
   "metadata": {},
   "source": [
    "# Analyse the ADS-B log.txt\n",
    "\n"
   ]
  },
  {
   "cell_type": "code",
   "execution_count": 2,
   "metadata": {},
   "outputs": [],
   "source": [
    "import csv\n",
    "import pandas as pd\n",
    "import numpy as np"
   ]
  },
  {
   "cell_type": "markdown",
   "metadata": {},
   "source": [
    "## Get column name and the size of file"
   ]
  },
  {
   "cell_type": "code",
   "execution_count": 3,
   "metadata": {},
   "outputs": [
    {
     "name": "stdout",
     "output_type": "stream",
     "text": [
      "['', 'time', 'icao24', 'lat', 'lon', 'velocity', 'heading', 'vertrate', 'callsign', 'onground', 'alert', 'spi', 'squawk', 'baroaltitude', 'geoaltitude', 'lastposupdate', 'lastcontact', 'hour'] \n",
      " Number of lines: 1417397\n"
     ]
    }
   ],
   "source": [
    "file = open(\"log.txt\", 'r')\n",
    "lines = file.readlines()\n",
    "col = [x.strip(' ') for x in lines[9].split('|')]\n",
    "col = col[:-1]\n",
    "nline=len(lines)\n",
    "file.close()\n",
    "print(col,'\\n Number of lines:',nline)"
   ]
  },
  {
   "cell_type": "markdown",
   "metadata": {},
   "source": [
    "## Transfer data\n",
    "\n",
    "Transfer data into prope forme  \n",
    "@parametre: filename  \n",
    "@return: transfered data"
   ]
  },
  {
   "cell_type": "code",
   "execution_count": 73,
   "metadata": {},
   "outputs": [],
   "source": [
    "def transferData(filename):\n",
    "    sub_data = pd.read_csv(filename, sep= '|',\n",
    "                       names=col, \n",
    "                       skiprows=11, \n",
    "                       index_col=False, \n",
    "                       skipinitialspace=True,  \n",
    "                       na_values=['NULL','NULL     ','spi   ','alert ','onground '], \n",
    "                       false_values=['false    ','false ','false ','false    '],\n",
    "                       true_values=['true  ','true     ','true  '],\n",
    "                       iterator=True,\n",
    "                       chunksize=1000\n",
    "                      )\n",
    "    data=pd.concat(sub_data)\n",
    "    data = data.iloc[:-6,1:]\n",
    "    for name in ['lat', 'lon','velocity','heading','vertrate','baroaltitude','geoaltitude','lastposupdate','lastcontact']:\n",
    "        data[name] = pd.to_numeric(data[name], errors='coerce')\n",
    "    return data"
   ]
  },
  {
   "cell_type": "code",
   "execution_count": 74,
   "metadata": {},
   "outputs": [
    {
     "data": {
      "text/plain": [
       "time              object\n",
       "icao24            object\n",
       "lat              float64\n",
       "lon              float64\n",
       "velocity         float64\n",
       "heading          float64\n",
       "vertrate         float64\n",
       "callsign          object\n",
       "onground          object\n",
       "alert             object\n",
       "spi               object\n",
       "squawk            object\n",
       "baroaltitude     float64\n",
       "geoaltitude      float64\n",
       "lastposupdate    float64\n",
       "lastcontact      float64\n",
       "hour              object\n",
       "dtype: object"
      ]
     },
     "execution_count": 74,
     "metadata": {},
     "output_type": "execute_result"
    }
   ],
   "source": [
    "data=transferData('log.txt')\n",
    "data.dtypes"
   ]
  },
  {
   "cell_type": "markdown",
   "metadata": {},
   "source": [
    "## Create itinerary picture  \n",
    "@parametre: data  \n",
    "save as **itinerary.jpg**"
   ]
  },
  {
   "cell_type": "code",
   "execution_count": 75,
   "metadata": {},
   "outputs": [],
   "source": [
    "import matplotlib.pyplot as plt\n",
    "from mpl_toolkits.mplot3d import Axes3D\n",
    "def itinerary(data):\n",
    "    fig = plt.figure()\n",
    "    ax = Axes3D(fig)\n",
    "    ax.plot(data.lat, data.lon, data.geoaltitude, c='r')\n",
    "    ax.bar3d(data.lat, data.lon, data.geoaltitude, 0.01, 0.01,data.vertrate*100, shade=False)\n",
    "    ax.set_xlabel('latitude')\n",
    "    ax.set_ylabel('longitude')\n",
    "    ax.set_zlabel('altitude')\n",
    "    plt.savefig('itinerary.jpg')\n",
    "    plt.show()"
   ]
  },
  {
   "cell_type": "code",
   "execution_count": null,
   "metadata": {},
   "outputs": [
    {
     "name": "stderr",
     "output_type": "stream",
     "text": [
      "c:\\users\\hong\\appdata\\local\\programs\\python\\python37\\lib\\site-packages\\numpy\\core\\fromnumeric.py:83: RuntimeWarning: invalid value encountered in reduce\n",
      "  return ufunc.reduce(obj, axis, dtype, out, **passkwargs)\n"
     ]
    }
   ],
   "source": [
    "itinerary(data)"
   ]
  },
  {
   "cell_type": "code",
   "execution_count": null,
   "metadata": {},
   "outputs": [],
   "source": []
  }
 ],
 "metadata": {
  "kernelspec": {
   "display_name": "Python 3",
   "language": "python",
   "name": "python3"
  },
  "language_info": {
   "codemirror_mode": {
    "name": "ipython",
    "version": 3
   },
   "file_extension": ".py",
   "mimetype": "text/x-python",
   "name": "python",
   "nbconvert_exporter": "python",
   "pygments_lexer": "ipython3",
   "version": "3.7.0"
  }
 },
 "nbformat": 4,
 "nbformat_minor": 2
}
