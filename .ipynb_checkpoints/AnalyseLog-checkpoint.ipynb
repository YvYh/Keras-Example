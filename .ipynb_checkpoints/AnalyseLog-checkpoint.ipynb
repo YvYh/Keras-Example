{
 "cells": [
  {
   "cell_type": "code",
   "execution_count": 1,
   "metadata": {},
   "outputs": [],
   "source": [
    "import csv\n",
    "import pandas as pd\n",
    "import numpy as np"
   ]
  },
  {
   "cell_type": "code",
   "execution_count": 2,
   "metadata": {},
   "outputs": [],
   "source": [
    "file = open(\"log.txt\", 'r')\n",
    "lines = file.readlines()\n",
    "file.close()"
   ]
  },
  {
   "cell_type": "code",
   "execution_count": 3,
   "metadata": {},
   "outputs": [
    {
     "name": "stdout",
     "output_type": "stream",
     "text": [
      "['', 'time', 'icao24', 'lat', 'lon', 'velocity', 'heading', 'vertrate', 'callsign', 'onground', 'alert', 'spi', 'squawk', 'baroaltitude', 'geoaltitude', 'lastposupdate', 'lastcontact', 'hour']\n"
     ]
    }
   ],
   "source": [
    "col = [x.strip(' ') for x in lines[9].split('|')]\n",
    "col = col[:-1]\n",
    "print(col)"
   ]
  },
  {
   "cell_type": "code",
   "execution_count": 4,
   "metadata": {},
   "outputs": [],
   "source": [
    "#reader = csv.reader(data, delimiter='|')\n",
    "#type_list=[str, np.int32, str, np.float64, np.float64, np.float64, np.float64, str, bool, bool, bool, np.int32, np.float64, np.float64, np.float64, np.float64, np.int32]\n",
    "#type_dict = dict(zip(col, type_list))"
   ]
  },
  {
   "cell_type": "code",
   "execution_count": 5,
   "metadata": {},
   "outputs": [],
   "source": [
    "n_to_read = 200\n",
    "data = pd.read_csv('log.txt', sep= '|',names=col, nrows=n_to_read, index_col=False, skipinitialspace=True, skiprows=11, na_values=[\"NULL\"])\n",
    "data = data.dropna(axis=1)"
   ]
  },
  {
   "cell_type": "code",
   "execution_count": 6,
   "metadata": {},
   "outputs": [
    {
     "data": {
      "text/plain": [
       "time               int64\n",
       "icao24            object\n",
       "lat              float64\n",
       "lon              float64\n",
       "velocity         float64\n",
       "heading          float64\n",
       "vertrate         float64\n",
       "callsign          object\n",
       "onground          object\n",
       "alert             object\n",
       "spi               object\n",
       "squawk            object\n",
       "baroaltitude     float64\n",
       "geoaltitude      float64\n",
       "lastposupdate    float64\n",
       "lastcontact      float64\n",
       "hour               int64\n",
       "dtype: object"
      ]
     },
     "execution_count": 6,
     "metadata": {},
     "output_type": "execute_result"
    }
   ],
   "source": [
    "for name in ['lat', 'lon','velocity','heading','vertrate','geoaltitude','lastposupdate']:\n",
    "    data[name] = pd.to_numeric(data['lat'], errors='coerce')\n",
    "data.dtypes"
   ]
  },
  {
   "cell_type": "code",
   "execution_count": 7,
   "metadata": {},
   "outputs": [],
   "source": [
    "import matplotlib.pyplot as plt"
   ]
  },
  {
   "cell_type": "code",
   "execution_count": 8,
   "metadata": {},
   "outputs": [
    {
     "data": {
      "text/plain": [
       "<matplotlib.axes._subplots.AxesSubplot at 0x209afb50>"
      ]
     },
     "execution_count": 8,
     "metadata": {},
     "output_type": "execute_result"
    },
    {
     "data": {
      "image/png": "[encoded data removed]",
      "text/plain": [
       "<Figure size 432x288 with 2 Axes>"
      ]
     },
     "metadata": {},
     "output_type": "display_data"
    }
   ],
   "source": [
    "data.plot.scatter(x='lat', y='lon', c='velocity')"
   ]
  },
  {
   "cell_type": "code",
   "execution_count": null,
   "metadata": {},
   "outputs": [],
   "source": []
  }
 ],
 "metadata": {
  "kernelspec": {
   "display_name": "Python 3",
   "language": "python",
   "name": "python3"
  },
  "language_info": {
   "codemirror_mode": {
    "name": "ipython",
    "version": 3
   },
   "file_extension": ".py",
   "mimetype": "text/x-python",
   "name": "python",
   "nbconvert_exporter": "python",
   "pygments_lexer": "ipython3",
   "version": "3.6.5"
  }
 },
 "nbformat": 4,
 "nbformat_minor": 2
}
